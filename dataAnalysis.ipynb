{
 "cells": [
  {
   "cell_type": "code",
   "execution_count": 2,
   "metadata": {},
   "outputs": [],
   "source": [
    "import pandas as pd\n",
    "import matplotlib.pyplot as plt\n",
    "import seaborn as sns\n",
    "import pickle"
   ]
  },
  {
   "cell_type": "code",
   "execution_count": 3,
   "metadata": {},
   "outputs": [
    {
     "data": {
      "text/html": [
       "<div>\n",
       "<style scoped>\n",
       "    .dataframe tbody tr th:only-of-type {\n",
       "        vertical-align: middle;\n",
       "    }\n",
       "\n",
       "    .dataframe tbody tr th {\n",
       "        vertical-align: top;\n",
       "    }\n",
       "\n",
       "    .dataframe thead th {\n",
       "        text-align: right;\n",
       "    }\n",
       "</style>\n",
       "<table border=\"1\" class=\"dataframe\">\n",
       "  <thead>\n",
       "    <tr style=\"text-align: right;\">\n",
       "      <th></th>\n",
       "      <th>type</th>\n",
       "      <th>start_time</th>\n",
       "      <th>ambient_temperature</th>\n",
       "      <th>battery_id</th>\n",
       "      <th>test_id</th>\n",
       "      <th>uid</th>\n",
       "      <th>filename</th>\n",
       "      <th>Capacity</th>\n",
       "      <th>Re</th>\n",
       "      <th>Rct</th>\n",
       "    </tr>\n",
       "  </thead>\n",
       "  <tbody>\n",
       "    <tr>\n",
       "      <th>0</th>\n",
       "      <td>discharge</td>\n",
       "      <td>[2010.       7.      21.      15.       0.    ...</td>\n",
       "      <td>4</td>\n",
       "      <td>B0047</td>\n",
       "      <td>0</td>\n",
       "      <td>1</td>\n",
       "      <td>00001.csv</td>\n",
       "      <td>1.6743047446975208</td>\n",
       "      <td>NaN</td>\n",
       "      <td>NaN</td>\n",
       "    </tr>\n",
       "    <tr>\n",
       "      <th>1</th>\n",
       "      <td>impedance</td>\n",
       "      <td>[2010.       7.      21.      16.      53.    ...</td>\n",
       "      <td>24</td>\n",
       "      <td>B0047</td>\n",
       "      <td>1</td>\n",
       "      <td>2</td>\n",
       "      <td>00002.csv</td>\n",
       "      <td>NaN</td>\n",
       "      <td>0.05605783343888099</td>\n",
       "      <td>0.20097016584458333</td>\n",
       "    </tr>\n",
       "    <tr>\n",
       "      <th>2</th>\n",
       "      <td>charge</td>\n",
       "      <td>[2010.       7.      21.      17.      25.    ...</td>\n",
       "      <td>4</td>\n",
       "      <td>B0047</td>\n",
       "      <td>2</td>\n",
       "      <td>3</td>\n",
       "      <td>00003.csv</td>\n",
       "      <td>NaN</td>\n",
       "      <td>NaN</td>\n",
       "      <td>NaN</td>\n",
       "    </tr>\n",
       "    <tr>\n",
       "      <th>3</th>\n",
       "      <td>impedance</td>\n",
       "      <td>[2010    7   21   20   31    5]</td>\n",
       "      <td>24</td>\n",
       "      <td>B0047</td>\n",
       "      <td>3</td>\n",
       "      <td>4</td>\n",
       "      <td>00004.csv</td>\n",
       "      <td>NaN</td>\n",
       "      <td>0.05319185850921101</td>\n",
       "      <td>0.16473399914864734</td>\n",
       "    </tr>\n",
       "    <tr>\n",
       "      <th>4</th>\n",
       "      <td>discharge</td>\n",
       "      <td>[2.0100e+03 7.0000e+00 2.1000e+01 2.1000e+01 2...</td>\n",
       "      <td>4</td>\n",
       "      <td>B0047</td>\n",
       "      <td>4</td>\n",
       "      <td>5</td>\n",
       "      <td>00005.csv</td>\n",
       "      <td>1.5243662105099023</td>\n",
       "      <td>NaN</td>\n",
       "      <td>NaN</td>\n",
       "    </tr>\n",
       "  </tbody>\n",
       "</table>\n",
       "</div>"
      ],
      "text/plain": [
       "        type                                         start_time  \\\n",
       "0  discharge  [2010.       7.      21.      15.       0.    ...   \n",
       "1  impedance  [2010.       7.      21.      16.      53.    ...   \n",
       "2     charge  [2010.       7.      21.      17.      25.    ...   \n",
       "3  impedance                    [2010    7   21   20   31    5]   \n",
       "4  discharge  [2.0100e+03 7.0000e+00 2.1000e+01 2.1000e+01 2...   \n",
       "\n",
       "   ambient_temperature battery_id  test_id  uid   filename  \\\n",
       "0                    4      B0047        0    1  00001.csv   \n",
       "1                   24      B0047        1    2  00002.csv   \n",
       "2                    4      B0047        2    3  00003.csv   \n",
       "3                   24      B0047        3    4  00004.csv   \n",
       "4                    4      B0047        4    5  00005.csv   \n",
       "\n",
       "             Capacity                   Re                  Rct  \n",
       "0  1.6743047446975208                  NaN                  NaN  \n",
       "1                 NaN  0.05605783343888099  0.20097016584458333  \n",
       "2                 NaN                  NaN                  NaN  \n",
       "3                 NaN  0.05319185850921101  0.16473399914864734  \n",
       "4  1.5243662105099023                  NaN                  NaN  "
      ]
     },
     "execution_count": 3,
     "metadata": {},
     "output_type": "execute_result"
    }
   ],
   "source": [
    "# import the dataset \n",
    "df = pd.read_csv('metadata.csv')\n",
    "df.head()"
   ]
  },
  {
   "cell_type": "code",
   "execution_count": 4,
   "metadata": {},
   "outputs": [
    {
     "name": "stdout",
     "output_type": "stream",
     "text": [
      "Initial data shape: (7565, 10)\n",
      "Initial null counts:\n",
      "type                      0\n",
      "start_time                0\n",
      "ambient_temperature       0\n",
      "battery_id                0\n",
      "test_id                   0\n",
      "uid                       0\n",
      "filename                  0\n",
      "Capacity               4771\n",
      "Re                     5609\n",
      "Rct                    5609\n",
      "dtype: int64\n"
     ]
    }
   ],
   "source": [
    "# Initial data shape\n",
    "print(\"Initial data shape:\", df.shape)\n",
    "print(\"Initial null counts:\")\n",
    "print(df.isnull().sum())\n",
    "\n",
    "# Convert numeric columns\n",
    "numeric_cols = ['ambient_temperature', 'test_id', 'uid', 'Capacity', 'Re', 'Rct']\n",
    "for col in numeric_cols:\n",
    "    df[col] = pd.to_numeric(df[col], errors='coerce')\n"
   ]
  },
  {
   "cell_type": "code",
   "execution_count": 5,
   "metadata": {},
   "outputs": [],
   "source": [
    "\n",
    "# Remove duplicates\n",
    "df_cleaned = df.drop_duplicates()\n",
    "\n",
    "# Remove rows where all important measurements are null\n",
    "important_cols = ['Capacity', 'Re', 'Rct']\n",
    "df_cleaned = df_cleaned.dropna(subset=important_cols, how='all')\n"
   ]
  },
  {
   "cell_type": "code",
   "execution_count": 32,
   "metadata": {},
   "outputs": [
    {
     "name": "stdout",
     "output_type": "stream",
     "text": [
      "After cleaning:\n",
      "Data shape: (4716, 10)\n",
      "Null counts after cleaning:\n",
      "type                      0\n",
      "start_time                0\n",
      "ambient_temperature       0\n",
      "battery_id                0\n",
      "test_id                   0\n",
      "uid                       0\n",
      "filename                  0\n",
      "Capacity               1947\n",
      "Re                     2769\n",
      "Rct                    2769\n",
      "dtype: int64\n"
     ]
    }
   ],
   "source": [
    "\n",
    "print(\"After cleaning:\")\n",
    "print(\"Data shape:\", df_cleaned.shape)\n",
    "print(\"Null counts after cleaning:\")\n",
    "print(df_cleaned.isnull().sum())\n"
   ]
  },
  {
   "cell_type": "code",
   "execution_count": 7,
   "metadata": {},
   "outputs": [
    {
     "name": "stdout",
     "output_type": "stream",
     "text": [
      "Basic statistics of numeric columns after cleaning:\n",
      "       ambient_temperature      test_id          uid     Capacity  \\\n",
      "count          4716.000000  4716.000000  4716.000000  2769.000000   \n",
      "mean             21.045377   184.864504  3853.095208     1.326543   \n",
      "std              10.152917   156.657962  2173.563735     0.472517   \n",
      "min               4.000000     0.000000     1.000000     0.000000   \n",
      "25%              24.000000    59.000000  1962.500000     1.150286   \n",
      "50%              24.000000   138.000000  3944.500000     1.428065   \n",
      "75%              24.000000   272.000000  5715.250000     1.673645   \n",
      "max              44.000000   614.000000  7564.000000     2.640149   \n",
      "\n",
      "                 Re           Rct  \n",
      "count  1.947000e+03  1.947000e+03  \n",
      "mean  -4.976500e+11  1.055903e+12  \n",
      "std    2.195872e+13  4.659154e+13  \n",
      "min   -9.689245e+14 -2.091081e+02  \n",
      "25%    5.782157e-02  8.155754e-02  \n",
      "50%    7.255344e-02  1.014191e-01  \n",
      "75%    9.229960e-02  1.565123e-01  \n",
      "max    4.482291e+02  2.055843e+15  \n"
     ]
    }
   ],
   "source": [
    "\n",
    "# Basic statistics of numeric columns\n",
    "print(\"Basic statistics of numeric columns after cleaning:\")\n",
    "print(df_cleaned[numeric_cols].describe())"
   ]
  },
  {
   "cell_type": "code",
   "execution_count": 8,
   "metadata": {},
   "outputs": [
    {
     "name": "stdout",
     "output_type": "stream",
     "text": [
      "Re and Rct value ranges:\n",
      "Re range:\n",
      "count    1.947000e+03\n",
      "mean    -4.976500e+11\n",
      "std      2.195872e+13\n",
      "min     -9.689245e+14\n",
      "25%      5.782157e-02\n",
      "50%      7.255344e-02\n",
      "75%      9.229960e-02\n",
      "max      4.482291e+02\n",
      "Name: Re, dtype: float64\n",
      "Rct range:\n",
      "count    1.947000e+03\n",
      "mean     1.055903e+12\n",
      "std      4.659154e+13\n",
      "min     -2.091081e+02\n",
      "25%      8.155754e-02\n",
      "50%      1.014191e-01\n",
      "75%      1.565123e-01\n",
      "max      2.055843e+15\n",
      "Name: Rct, dtype: float64\n"
     ]
    }
   ],
   "source": [
    "# Let's clean up the Re and Rct columns which seem to have extreme values\n",
    "# First look at their distributions\n",
    "print(\"Re and Rct value ranges:\")\n",
    "print(\"Re range:\")\n",
    "print(df_cleaned['Re'].describe())\n",
    "print(\"Rct range:\")\n",
    "print(df_cleaned['Rct'].describe())\n"
   ]
  },
  {
   "cell_type": "code",
   "execution_count": 9,
   "metadata": {},
   "outputs": [],
   "source": [
    "\n",
    "# Remove extreme outliers using IQR method\n",
    "def remove_outliers(df, column):\n",
    "    Q1 = df[column].quantile(0.25)\n",
    "    Q3 = df[column].quantile(0.75)\n",
    "    IQR = Q3 - Q1\n",
    "    lower_bound = Q1 - 3 * IQR\n",
    "    upper_bound = Q3 + 3 * IQR\n",
    "    return df[(df[column] >= lower_bound) & (df[column] <= upper_bound)]\n",
    "\n",
    "# Clean Re and Rct columns\n",
    "df_no_outliers = df_cleaned.copy()\n",
    "for col in ['Re', 'Rct']:\n",
    "    mask = df_no_outliers[col].notna()\n",
    "    if mask.any():\n",
    "        df_no_outliers.loc[mask] = remove_outliers(df_no_outliers[mask], col)\n"
   ]
  },
  {
   "cell_type": "code",
   "execution_count": 10,
   "metadata": {},
   "outputs": [
    {
     "name": "stdout",
     "output_type": "stream",
     "text": [
      "After removing outliers:\n",
      "Data shape: (4716, 10)\n",
      "Cleaned statistics:\n",
      "          Capacity           Re          Rct\n",
      "count  2769.000000  1933.000000  1933.000000\n",
      "mean      1.326543     0.075907     0.121837\n",
      "std       0.472517     0.024161     0.051749\n",
      "min       0.000000     0.027050     0.039543\n",
      "25%       1.150286     0.058089     0.081508\n",
      "50%       1.428065     0.072656     0.100935\n",
      "75%       1.673645     0.092436     0.154892\n",
      "max       2.640149     0.179841     0.298464\n"
     ]
    }
   ],
   "source": [
    "\n",
    "print(\"After removing outliers:\")\n",
    "print(\"Data shape:\", df_no_outliers.shape)\n",
    "\n",
    "# Show cleaned statistics\n",
    "print(\"Cleaned statistics:\")\n",
    "print(df_no_outliers[['Capacity', 'Re', 'Rct']].describe())"
   ]
  },
  {
   "cell_type": "code",
   "execution_count": null,
   "metadata": {},
   "outputs": [
    {
     "data": {
      "text/plain": [
       "Text(0.5, 0, 'Battery ID')"
      ]
     },
     "execution_count": 12,
     "metadata": {},
     "output_type": "execute_result"
    },
    {
     "data": {
      "image/png": "[encoded data removed]",
      "text/plain": [
       "<Figure size 640x480 with 1 Axes>"
      ]
     },
     "metadata": {},
     "output_type": "display_data"
    }
   ],
   "source": [
    "battery_ids = df[\"battery_id\"].unique()\n",
    "# number of charge-dischargec per battayer\n",
    "sns.countplot(data=df[df[\"type\"]==\"discharge\"], x=\"battery_id\", order=battery_ids, dodge=False)\n",
    "plt.tick_params(axis='x', rotation=90)\n",
    "plt.ylabel(\"Number of cycles\")\n",
    "plt.xlabel(\"Battery ID\")"
   ]
  },
  {
   "cell_type": "code",
   "execution_count": 33,
   "metadata": {},
   "outputs": [],
   "source": [
    "# counting number of cycles\n",
    "cycle_count = 0\n",
    "def assign_cycle(row):\n",
    "    global cycle_count\n",
    "    if row['type'] == 'discharge':\n",
    "        cycle_count += 1\n",
    "    return cycle_count\n",
    "\n",
    "df['cycle'] = df.apply(assign_cycle, axis=1)\n",
    "# saving the updated data \n",
    "df.to_csv(\"updated_metadata.csv\")"
   ]
  },
  {
   "cell_type": "code",
   "execution_count": null,
   "metadata": {},
   "outputs": [
    {
     "name": "stdout",
     "output_type": "stream",
     "text": [
      "Example data for first battery ID: B0047\n",
      "          Re       Rct  cycle\n",
      "0   0.056058  0.200970      1\n",
      "1   0.053192  0.164734      1\n",
      "2   0.059638  0.210399      6\n",
      "3   0.055125  0.175488      6\n",
      "4   0.058878  0.190957      7\n",
      "5   0.052813  0.172252      7\n",
      "6   0.057517  0.196364     12\n",
      "7   0.053534  0.177707     12\n",
      "8   0.062031  0.200898     13\n",
      "9   0.058585  0.184154     13\n",
      "10  0.062411  0.214393     18\n",
      "11  0.058089  0.186690     18\n",
      "12  0.065454  0.221454     23\n",
      "13  0.058894  0.202839     23\n",
      "14  0.067437  0.231821     28\n",
      "15  0.060657  0.213997     28\n",
      "16  0.070100  0.229878     33\n",
      "17  0.065507  0.203552     33\n",
      "18  0.065475  0.236929     34\n",
      "19  0.064050  0.203094     34\n",
      "20  0.067098  0.230396     39\n",
      "21  0.065833  0.220442     39\n",
      "22  0.069821  0.247872     44\n",
      "23  0.068788  0.213603     44\n",
      "24  0.071174  0.236860     49\n",
      "25  0.067042  0.223946     49\n",
      "26  0.070233  0.243232     54\n",
      "27  0.067687  0.222291     54\n",
      "28  0.071620  0.234037     55\n",
      "29  0.070681  0.195285     55\n",
      "30  0.075096  0.238580     60\n",
      "31  0.072162  0.213468     60\n",
      "32  0.074470  0.228814     61\n",
      "33  0.072066  0.216997     61\n",
      "34  0.075882  0.217170     66\n",
      "35  0.072801  0.216741     66\n",
      "36  0.072277  0.237075     67\n",
      "37  0.072783  0.215206     67\n",
      "38  0.074364  0.234086     72\n",
      "39  0.073005  0.221714     72\n"
     ]
    }
   ],
   "source": [
    "# Get unique battery IDs\n",
    "battery_ids = df['battery_id'].unique()\n",
    "\n",
    "# Create dictionary to store dataframes\n",
    "battery_dict = {}\n",
    "\n",
    "# Populate dictionary\n",
    "for battery_id in battery_ids:\n",
    "    # Filter data for current battery\n",
    "    battery_data = df[df['battery_id'] == battery_id]\n",
    "    \n",
    "    # Get impedance measurements with cycle information\n",
    "    impedance_data = battery_data[battery_data['type'] == 'impedance'][['Re', 'Rct', 'cycle']].reset_index(drop=True)\n",
    "    \n",
    "    # Store in dictionary\n",
    "    battery_dict[battery_id] = impedance_data\n",
    "\n",
    "# Save the dictionary to a pickle file\n",
    "with open('battery_data.pkl', 'wb') as pickle_file:\n",
    "    pickle.dump(battery_dict, pickle_file)\n",
    "\n",
    "# Display first battery's data as example\n",
    "print(\"Example data for first battery ID:\", list(battery_dict.keys())[0])\n",
    "print(battery_dict[list(battery_dict.keys())[0]])"
   ]
  },
  {
   "cell_type": "code",
   "execution_count": 16,
   "metadata": {},
   "outputs": [],
   "source": [
    "import pickle\n",
    "\n",
    "# Save the dictionary to a pickle file\n",
    "with open('battery_data.pkl', 'wb') as pickle_file:\n",
    "    pickle.dump(battery_dict, pickle_file)\n"
   ]
  },
  {
   "cell_type": "code",
   "execution_count": null,
   "metadata": {},
   "outputs": [],
   "source": []
  }
 ],
 "metadata": {
  "kernelspec": {
   "display_name": "GenAI",
   "language": "python",
   "name": "python3"
  },
  "language_info": {
   "codemirror_mode": {
    "name": "ipython",
    "version": 3
   },
   "file_extension": ".py",
   "mimetype": "text/x-python",
   "name": "python",
   "nbconvert_exporter": "python",
   "pygments_lexer": "ipython3",
   "version": "3.10.15"
  }
 },
 "nbformat": 4,
 "nbformat_minor": 2
}
